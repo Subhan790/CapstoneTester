{
 "cells": [
  {
   "cell_type": "code",
   "execution_count": 3,
   "metadata": {},
   "outputs": [
    {
     "name": "stdout",
     "output_type": "stream",
     "text": [
      "Eddie\n"
     ]
    }
   ],
   "source": [
    "# python enviornment 3.11.4\n",
    "# print your names here\n",
    "# add a cell below the above name printed\n",
    "# run the cell\n",
    "# save the file\n",
    "# type init in the terminal\n",
    "# click the commit button\n",
    "# click the sync button or turning arrow button on the bottom left\n",
    "\n",
    "print ('Eddie')"
   ]
  },
  {
   "cell_type": "code",
   "execution_count": 4,
   "metadata": {},
   "outputs": [
    {
     "name": "stdout",
     "output_type": "stream",
     "text": [
      "Subhan\n"
     ]
    }
   ],
   "source": [
    "print('Subhan')"
   ]
  },
  {
   "cell_type": "code",
   "execution_count": null,
   "metadata": {},
   "outputs": [],
   "source": []
  }
 ],
 "metadata": {
  "kernelspec": {
   "display_name": "Python 3",
   "language": "python",
   "name": "python3"
  },
  "language_info": {
   "codemirror_mode": {
    "name": "ipython",
    "version": 3
   },
   "file_extension": ".py",
   "mimetype": "text/x-python",
   "name": "python",
   "nbconvert_exporter": "python",
   "pygments_lexer": "ipython3",
   "version": "3.11.5"
  }
 },
 "nbformat": 4,
 "nbformat_minor": 2
}
